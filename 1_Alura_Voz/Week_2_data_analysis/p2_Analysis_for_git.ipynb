{
  "cells": [
    {
      "cell_type": "markdown",
      "metadata": {
        "id": "view-in-github",
        "colab_type": "text"
      },
      "source": [
        "<a href=\"https://colab.research.google.com/github/anderson-ferreira-83/Data_Science_Repo_anderson83/blob/main/1_Alura_Voz/Week_2_data_analysis/p2_Analysis_for_git.ipynb\" target=\"_parent\"><img src=\"https://colab.research.google.com/assets/colab-badge.svg\" alt=\"Open In Colab\"/></a>"
      ]
    },
    {
      "cell_type": "markdown",
      "metadata": {
        "id": "WrdvA6onWFHS"
      },
      "source": [
        "## Part 2 - Data Analysis"
      ]
    },
    {
      "cell_type": "code",
      "source": [
        "#\n",
        "import os\n",
        "import sys"
      ],
      "metadata": {
        "id": "39_xC57fy8dW"
      },
      "execution_count": null,
      "outputs": []
    },
    {
      "cell_type": "code",
      "source": [
        "#\n",
        "import pandas as pd"
      ],
      "metadata": {
        "id": "-mOXZWnxxz7O"
      },
      "execution_count": null,
      "outputs": []
    },
    {
      "cell_type": "markdown",
      "metadata": {
        "id": "XYBo_CYgWFHU"
      },
      "source": [
        "Now let´s import the JSON file we saved in the [previous notebook](https://github.com/sthemonica/challenge_dados_1/blob/bruno/1-Limpeza%20dos%20dados/limpeza.ipynb), with the cleaned data, so we can perform the analyses."
      ]
    },
    {
      "cell_type": "code",
      "source": [
        "# Link to access the shared database file 'Telco-Customer-Churn-clean.json'\n",
        "str_data_telco_cust_chrun_clean_file = '1--WyhFs-oY4xjPXyHd5Qatpio-2Z4zFa'"
      ],
      "metadata": {
        "id": "vVNjK12vgB01"
      },
      "execution_count": null,
      "outputs": []
    },
    {
      "cell_type": "code",
      "source": [
        "# Downloading file to current GoogleColab directory 'Telco-Customer-Churn-clean.json'\n",
        "!gdown --id $str_data_telco_cust_chrun_clean_file"
      ],
      "metadata": {
        "id": "VZ-o8M_rgF-4"
      },
      "execution_count": null,
      "outputs": []
    },
    {
      "cell_type": "code",
      "execution_count": null,
      "metadata": {
        "id": "U0ulpaidWFHU"
      },
      "outputs": [],
      "source": [
        "# Reading database\n",
        "data_db = pd.read_json('Telco-Customer-Churn-clean.json')\n",
        "data_db.head()"
      ]
    },
    {
      "cell_type": "markdown",
      "metadata": {
        "id": "jiYeCl43WFHT"
      },
      "source": [
        "After the initial data cleaning, it's ideal to perform a graphical analysis to understand which variables are related to churn. This helps the sales team get a sense of the current scenario and allows us to understand the situation more clearly and form possible hypotheses about what is happening with the customers.\n",
        "\n",
        "The first step is to import the libraries we will use during the process. In this step, we will also import some functions from utils, a Python file where we created helper functions to keep our notebook less cluttered. This approach is useful when we want to use the functions in more than one notebook."
      ]
    },
    {
      "cell_type": "code",
      "source": [
        "# Link to access the functions of model\n",
        "str_utils = '1DJEF0jli6eQixbcz-ARBX7X5d9ojoP4J'"
      ],
      "metadata": {
        "id": "wjDhsGoXzqym"
      },
      "execution_count": null,
      "outputs": []
    },
    {
      "cell_type": "code",
      "source": [
        "# Downloading file to current GoogleColab directory 'utils.py'\n",
        "!gdown --id $str_utils"
      ],
      "metadata": {
        "id": "t8j6Z9bWg6kI"
      },
      "execution_count": null,
      "outputs": []
    },
    {
      "cell_type": "code",
      "source": [
        "#\n",
        "from utils import plot_countplot, heatmap_corr"
      ],
      "metadata": {
        "id": "dDQ8sByyzqEg"
      },
      "execution_count": null,
      "outputs": []
    },
    {
      "cell_type": "code",
      "source": [
        "#\n",
        "from plotly.express import box"
      ],
      "metadata": {
        "id": "xbc8o-YAx5lM"
      },
      "execution_count": null,
      "outputs": []
    },
    {
      "cell_type": "code",
      "execution_count": null,
      "metadata": {
        "id": "8p1HJRK7WFHU"
      },
      "outputs": [],
      "source": [
        "#\n",
        "import pandas as pd\n",
        "import seaborn as sns\n",
        "import matplotlib.pyplot as plt"
      ]
    },
    {
      "cell_type": "markdown",
      "metadata": {
        "id": "Wzn5gDBGWFHV"
      },
      "source": [
        "### Analyzing Churn"
      ]
    },
    {
      "cell_type": "markdown",
      "metadata": {
        "id": "4GKQPr8aWFHV"
      },
      "source": [
        "To start analyzing, let´s use the `.describe()` method to understand some statistical methods within the dataset.\n",
        "\n",
        "The `describe()` method provides information on:\n",
        "\n",
        "* `count` - Counts the number of non-empty values. These values help us better understand the sample size.\n",
        "\n",
        "* `mean` - The average value, in arithmetic mean. Since it calculates an arithmetic mean, it does not always represent the reality of most cases in the database.\n",
        "\n",
        "* `std` - The standard deviation. It measures how data is dispersed relative to the mean, indicating how spread out they are.\n",
        "\n",
        "* `min` and `max` - Values that help identify the sample´s range, between the mininum and maximum values.\n",
        "\n",
        "* `quartis` - Values that show how the data is distributed, for example, the 50% mark is the median, where half of the values are below a certain value, and the other half are above that value.\n",
        "\n",
        " To learn about this method, visit the article [Ampliando a análise com o Describe](https://www.alura.com.br/artigos/ampliando-a-analise-com-describe)."
      ]
    },
    {
      "cell_type": "code",
      "execution_count": null,
      "metadata": {
        "id": "J9-x1opVWFHW"
      },
      "outputs": [],
      "source": [
        "# There are only 3 variables because they are the only numeric ones and the others are categorical\n",
        "data_db.describe().round(2)"
      ]
    },
    {
      "cell_type": "markdown",
      "metadata": {
        "id": "NLz27OC2WFHW"
      },
      "source": [
        "We can see that only 4 columns can be analyzed with the `.describe()` method, so we will use `.dtypes` to understand what types of data we have within our database."
      ]
    },
    {
      "cell_type": "code",
      "execution_count": null,
      "metadata": {
        "id": "-2owakXbWFHW"
      },
      "outputs": [],
      "source": [
        "#\n",
        "data_db.dtypes"
      ]
    },
    {
      "cell_type": "markdown",
      "metadata": {
        "id": "C5hpN10_WFHX"
      },
      "source": [
        "As we can see, most of the data we have is **object**, and the method cannot work with categorical variables **unless** a parameter is passed allowing this inclusion, however some of our analyses of the `.describe()` method may be lost."
      ]
    },
    {
      "cell_type": "code",
      "execution_count": null,
      "metadata": {
        "id": "jRyfOl-CWFHX"
      },
      "outputs": [],
      "source": [
        "# To analyze features that are categorical, we can use include\n",
        "data_db.describe(include=[object])"
      ]
    },
    {
      "cell_type": "markdown",
      "metadata": {
        "id": "A9Y4Sj96WFHX"
      },
      "source": [
        "Our `.describe()` method returned 3 different lines from the ones we already knew:\n",
        "\n",
        "* `unique` is the number of unique values\n",
        "* `top` is the most common value\n",
        "* `freq` is the frequency of the most common value\n",
        "\n",
        "But even with these values, it is still difficult to get answers and pass something concrete to the sales team to evaluate, especially to formulate a hypothesis about churn, so now we will move on to the graphical part."
      ]
    },
    {
      "cell_type": "markdown",
      "metadata": {
        "id": "mSqX46JtWFHX"
      },
      "source": [
        "### Graphical analysis"
      ]
    },
    {
      "cell_type": "markdown",
      "metadata": {
        "id": "J4hwBi_0WFHX"
      },
      "source": [
        "In this section, it is interesting to focus on which visualizations will be best to present to our teammates, and for this we can watch the video [Data Visualization: types of visualization](https://cursos.alura.com.br/extra/alura-mais/data-visualization-tipos-de-visualizacao-c1409). The graphs can be made using Matplotlib, Seaborn or any other graphic library of your choice.\n",
        "\n",
        "The first analysis to be done is the distribution of the target variable, Churn, to understand how many cases we have of people who canceled their contracts and how many still have an active contract. To do this, we will use the `plot_countplot` function from the **utils** file, which uses the `countplot` from the Seaborn library and you can check out more about it in the course [Data Visualization: exploring with Seaborn](https://cursos.alura.com.br/course/data-visualization-com-seaborn) and to learn specifically about the function, you can check out the [documentation](https://seaborn.pydata.org/generated/seaborn.countplot.html)."
      ]
    },
    {
      "cell_type": "code",
      "execution_count": null,
      "metadata": {
        "id": "mNI4y0wsWFHX"
      },
      "outputs": [],
      "source": [
        "#\n",
        "plot_countplot(data_db = data_db,\n",
        "               x='Churn',\n",
        "               titulo=\"Distribution of the Churn variable\",\n",
        "               label_x='Churn')"
      ]
    },
    {
      "cell_type": "markdown",
      "metadata": {
        "id": "6NDLXgBPWFHX"
      },
      "source": [
        "We can also analyze by gender variable to see if there is any impact on whether the person is, in this case, male or female."
      ]
    },
    {
      "cell_type": "code",
      "execution_count": null,
      "metadata": {
        "id": "BeKGhqqYWFHY"
      },
      "outputs": [],
      "source": [
        "# Plotando o gráfico de Gênero\n",
        "plot_countplot(data_db=data_db,\n",
        "               x='gender',\n",
        "               titulo=\"Distribution of the gender variable by Churn\",\n",
        "               label_x='Gender',\n",
        "               hue='Churn')"
      ]
    },
    {
      "cell_type": "markdown",
      "metadata": {
        "id": "035MXWnbWFHY"
      },
      "source": [
        "We can see that the \"gender\" variable **has no impact on churn**, since the proportion of people who canceled the service between genders is the same.\n",
        "\n",
        "Let's plot the graphs for the internet services:"
      ]
    },
    {
      "cell_type": "code",
      "execution_count": null,
      "metadata": {
        "id": "gORDzoUiWFHY"
      },
      "outputs": [],
      "source": [
        "# Plotting the internet service graph\n",
        "plot_countplot(data_db=data_db,\n",
        "               x='InternetService',\n",
        "               titulo=\"Distribution of the InternetService variable by Churn\",\n",
        "               label_x='InternetService',\n",
        "               hue='Churn')"
      ]
    },
    {
      "cell_type": "markdown",
      "metadata": {
        "id": "WlJtHbuLWFHY"
      },
      "source": [
        "Analyzing the graph above, it can be seen that customers who use fiber optics as an internet service have a proportionally higher churn rate than others. Alura Voz could offer more DSL service since it has a lower churn rate, or identify what problems are occurring with the fiber optic service and improve it."
      ]
    },
    {
      "cell_type": "code",
      "execution_count": null,
      "metadata": {
        "id": "CluEUFcYWFHY"
      },
      "outputs": [],
      "source": [
        "# Plotting the graph regarding whether the client has online security or not\n",
        "plot_countplot(data_db=data_db,\n",
        "               x='OnlineSecurity',\n",
        "               titulo=\"Distribution of the OnlineSecurity variable by Churn\",\n",
        "               label_x='OnlineSecurity',\n",
        "               hue='Churn')"
      ]
    },
    {
      "cell_type": "code",
      "source": [
        "# Plotting the graph regarding whether or not the client has an online backup\n",
        "plot_countplot(data_db=data_db,\n",
        "               x='OnlineBackup',\n",
        "               titulo=\"Distribution of the OnlineBackup variable by Churn\",\n",
        "               label_x='OnlineBackup',\n",
        "               hue='Churn')"
      ],
      "metadata": {
        "id": "tjKYwMKBQlzg"
      },
      "execution_count": null,
      "outputs": []
    },
    {
      "cell_type": "markdown",
      "metadata": {
        "id": "ajJPgSE5WFHY"
      },
      "source": [
        "From the graph above, we can see that customers who do not subscribe to online security and do not have online backup tend to stop using Alura Voz services. Offering an online security and online backup service would be a good option to reduce the cancellation rate."
      ]
    },
    {
      "cell_type": "code",
      "execution_count": null,
      "metadata": {
        "id": "mRBJY0-8WFHY"
      },
      "outputs": [],
      "source": [
        "# Plotting the graph regarding whether the client has device protection or not\n",
        "plot_countplot(data_db=data_db,\n",
        "               x='DeviceProtection',\n",
        "               titulo=\"Distribution of DeviceProtection variable by Churn\",\n",
        "               label_x='DeviceProtection',\n",
        "               hue='Churn')"
      ]
    },
    {
      "cell_type": "markdown",
      "metadata": {
        "id": "1L2zNq40WFHZ"
      },
      "source": [
        "From the graph above, we can see that customers who do not have device protection tend to stop using Alura Voz services. Offering a protection service is a good option to reduce the cancellation rate."
      ]
    },
    {
      "cell_type": "code",
      "execution_count": null,
      "metadata": {
        "id": "20vdqMKWWFHZ"
      },
      "outputs": [],
      "source": [
        "# Plotting the graph regarding whether the customer has technical support or not.\n",
        "plot_countplot(data_db=data_db,\n",
        "               x='TechSupport',\n",
        "               titulo=\"Distribution of TechSupport Variable by Churn\",\n",
        "               label_x='TechSupport',\n",
        "               hue='Churn')"
      ]
    },
    {
      "cell_type": "markdown",
      "metadata": {
        "id": "Fj-DsSDZWFHZ"
      },
      "source": [
        "Customers who do not have technical support tend to stop using Alura Voz services. Offering a technical support service is a good option to reduce the cancellation rate."
      ]
    },
    {
      "cell_type": "code",
      "execution_count": null,
      "metadata": {
        "id": "l9LJIlp8WFHZ"
      },
      "outputs": [],
      "source": [
        "# Plotting the graph regarding the term of the customer's contract\n",
        "plot_countplot(data_db=data_db,\n",
        "               x='Contract',\n",
        "               titulo=\"Distribution of the Contract variable by Churn\",\n",
        "               label_x='Contract',\n",
        "               hue='Churn',\n",
        "               small=True)"
      ]
    },
    {
      "cell_type": "markdown",
      "metadata": {
        "id": "Pag4KJILWFHZ"
      },
      "source": [
        "From the graph above, we can see that customers who have a monthly contract are the ones who tend to stop using Alura Voz services. Offering an annual or two-year contract service is a good option to reduce the cancellation rate."
      ]
    },
    {
      "cell_type": "code",
      "execution_count": null,
      "metadata": {
        "id": "jb8XIWA4WFHZ"
      },
      "outputs": [],
      "source": [
        "# Plotting the graph regarding the customer's payment method\n",
        "plot_countplot(data_db=data_db,\n",
        "               x='PaymentMethod',\n",
        "               titulo=\"Distribution of PaymentMethod variable by Churn\",\n",
        "               label_x='PaymentMethod',\n",
        "               hue='Churn',\n",
        "               figsize=(12, 5))"
      ]
    },
    {
      "cell_type": "markdown",
      "metadata": {
        "id": "9oFg3gquWFHZ"
      },
      "source": [
        "We have noticed that people using the \"Electronic check\" payment method tend to cancel Alura Voz services. Directing customers to another payment method is a good option to reduce the cancellation rate."
      ]
    },
    {
      "cell_type": "code",
      "execution_count": null,
      "metadata": {
        "id": "QrwPfWSnWFHZ"
      },
      "outputs": [],
      "source": [
        "# Plotting the graph of whether the customer is elderly or not due to churn.\n",
        "plot_countplot(data_db=data_db,\n",
        "               x='SeniorCitizen',\n",
        "               titulo=\"Distribution of the SeniorCitizen variable by Churn\",\n",
        "               label_x='SeniorCitizen',\n",
        "               hue='Churn')"
      ]
    },
    {
      "cell_type": "markdown",
      "metadata": {
        "id": "rMDT2LjSWFHa"
      },
      "source": [
        "Although the number of elderly customers is smaller, the proportion of customers who canceled the service among elderly customers is higher than that of non-elderly customers. Understanding the reasons that are leading to this cancellation rate among elderly customers and adopting measures to improve the service for these customers is a good option to reduce the cancellation rate.\n",
        "\n",
        "To perform a more in-depth analysis, we can apply the boxplot, and to learn more, you can read this article: [Improving analysis with the Boxplot](https://www.alura.com.br/artigos/melhorando-a-analise-com-o-boxplot)."
      ]
    },
    {
      "cell_type": "code",
      "execution_count": null,
      "metadata": {
        "id": "Kax61A7xWFHa"
      },
      "outputs": [],
      "source": [
        "# Imprimindo boxplot com o plotly\n",
        "for col in ['tenure', 'Charges.Monthly']:\n",
        "    fig = box(data_db, x=col, color='Churn', orientation='h')\n",
        "    fig.show()"
      ]
    },
    {
      "cell_type": "code",
      "execution_count": null,
      "metadata": {
        "id": "4QUepSzgWFHa"
      },
      "outputs": [],
      "source": [
        "# Box Plot of numerical features.\n",
        "for col in ['tenure', 'Charges.Monthly']:\n",
        "    plt.figure(figsize=(8, 4))\n",
        "    sns.boxplot(x=col, y='Churn', data=data_db)\n",
        "    plt.title(f\"Boxplot of {col} by Churn\", fontsize=16)\n",
        "    plt.xlabel(col, fontsize=14)\n",
        "    plt.ylabel('Churn', fontsize=14)\n",
        "    plt.xticks(fontsize=13)\n",
        "    plt.yticks(fontsize=13)\n",
        "    plt.show()"
      ]
    },
    {
      "cell_type": "markdown",
      "metadata": {
        "id": "sFel2SOwWFHa"
      },
      "source": [
        "Analyzing the \"tenure\" feature, which represents the customer's contract time, we can see that customers who have been with the service for longer tend to continue using it.\n",
        "\n",
        "For the \"Charges.Monthly\" feature, we can see that customers who purchase cheaper services tend to continue using the service."
      ]
    },
    {
      "cell_type": "markdown",
      "metadata": {
        "id": "uiZldTK-WFHa"
      },
      "source": [
        "## Analyzing feature"
      ]
    },
    {
      "cell_type": "code",
      "source": [
        "# Show unique values ​​of problematic column\n",
        "print(data_db['Charges.Total'].unique())\n",
        "\n",
        "# Identify rows with non-numeric values\n",
        "non_numeric_rows = data_db[pd.to_numeric(data_db['Charges.Total'], errors='coerce').isna()]\n",
        "print(non_numeric_rows)\n"
      ],
      "metadata": {
        "id": "WcsNtGOWSvmA"
      },
      "execution_count": null,
      "outputs": []
    },
    {
      "cell_type": "markdown",
      "metadata": {
        "id": "bhMaPQkOWFHa"
      },
      "source": [
        "Let's analyze the features \"tenure\" and \"Charges.Monthly\" and \"Charges.Total\" which are apparently correlated."
      ]
    },
    {
      "cell_type": "code",
      "execution_count": null,
      "metadata": {
        "id": "RmseatCPWFHa"
      },
      "outputs": [],
      "source": [
        "# Plotting the correlation between numerical features\n",
        "heatmap_corr(data_db)"
      ]
    },
    {
      "cell_type": "code",
      "execution_count": null,
      "metadata": {
        "id": "X1M2v8vYWFHb"
      },
      "outputs": [],
      "source": [
        "data_db[['Charges.Monthly', 'Charges.Total']].corr().round(2)"
      ]
    },
    {
      "cell_type": "markdown",
      "metadata": {
        "id": "5YartajhWFHb"
      },
      "source": [
        "The features \"tenure\" and \"Charges.Total\" have a strong correlation, which means that as one increases the other increases as well. It is not very interesting to work with two correlated features, so we will remove the \"Charges.Total\" feature."
      ]
    }
  ],
  "metadata": {
    "interpreter": {
      "hash": "5920b5758d452ea2be3c84d3b52789bc04ee682949a6b0870d7691434146c726"
    },
    "kernelspec": {
      "display_name": "Python 3.8.13 ('machine_learning')",
      "language": "python",
      "name": "python3"
    },
    "language_info": {
      "codemirror_mode": {
        "name": "ipython",
        "version": 3
      },
      "file_extension": ".py",
      "mimetype": "text/x-python",
      "name": "python",
      "nbconvert_exporter": "python",
      "pygments_lexer": "ipython3",
      "version": "3.8.13"
    },
    "orig_nbformat": 4,
    "colab": {
      "provenance": [],
      "include_colab_link": true
    }
  },
  "nbformat": 4,
  "nbformat_minor": 0
}